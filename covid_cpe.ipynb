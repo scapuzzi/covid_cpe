{
 "cells": [
  {
   "cell_type": "markdown",
   "metadata": {},
   "source": [
    "# Analysis of SARS-CoV-2 cytopathic effect (CPE)  qHTS data"
   ]
  },
  {
   "cell_type": "markdown",
   "metadata": {},
   "source": [
    "#### This notebooks details the analysis of SARS-CoV-2 cytopathic effect (CPE) screening data from NCATS"
   ]
  },
  {
   "cell_type": "markdown",
   "metadata": {},
   "source": [
    "Outcomes: True actives w/ antiviral activity protect the host from the virus, but not kill the host cell in counterscreens"
   ]
  },
  {
   "cell_type": "markdown",
   "metadata": {},
   "source": [
    "Primary Assay Data: https://opendata.ncats.nih.gov/covid19/assay?aid=14\n",
    "\n",
    "Counter Screen Data: https://opendata.ncats.nih.gov/covid19/assay?aid=15"
   ]
  },
  {
   "cell_type": "markdown",
   "metadata": {},
   "source": [
    "#### If using the data from this notebook, please cite: https://www.biorxiv.org/content/10.1101/2020.06.04.135046v1"
   ]
  },
  {
   "cell_type": "markdown",
   "metadata": {},
   "source": [
    "#### Import libraries"
   ]
  },
  {
   "cell_type": "code",
   "execution_count": 1,
   "metadata": {},
   "outputs": [
    {
     "name": "stderr",
     "output_type": "stream",
     "text": [
      "RDKit WARNING: [20:17:36] Enabling RDKit 2019.09.3 jupyter extensions\n"
     ]
    }
   ],
   "source": [
    "import pandas as pd\n",
    "import seaborn as sns\n",
    "import matplotlib.pyplot as plt\n",
    "\n",
    "\n",
    "from rdkit import Chem\n",
    "from rdkit.Chem import AllChem\n",
    "from rdkit.Chem import Draw\n",
    "from rdkit.Chem import PandasTools\n",
    "from rdkit.Chem.Draw import IPythonConsole"
   ]
  },
  {
   "cell_type": "markdown",
   "metadata": {},
   "source": [
    "### In the first section of the notebook we will curate the primary HTS data"
   ]
  },
  {
   "cell_type": "markdown",
   "metadata": {},
   "source": [
    "#### Read the file containing the primary screening data "
   ]
  },
  {
   "cell_type": "code",
   "execution_count": 2,
   "metadata": {},
   "outputs": [],
   "source": [
    "file = 'SARS-CoV-2_cytopathic_effect_(CPE).tsv'"
   ]
  },
  {
   "cell_type": "code",
   "execution_count": 3,
   "metadata": {},
   "outputs": [],
   "source": [
    "primary = pd.read_csv(file, sep='\\t')  "
   ]
  },
  {
   "cell_type": "code",
   "execution_count": 4,
   "metadata": {},
   "outputs": [
    {
     "name": "stdout",
     "output_type": "stream",
     "text": [
      "Uncurated primary qHTS data:  (7215, 53)\n"
     ]
    },
    {
     "data": {
      "text/html": [
       "<div>\n",
       "<style scoped>\n",
       "    .dataframe tbody tr th:only-of-type {\n",
       "        vertical-align: middle;\n",
       "    }\n",
       "\n",
       "    .dataframe tbody tr th {\n",
       "        vertical-align: top;\n",
       "    }\n",
       "\n",
       "    .dataframe thead th {\n",
       "        text-align: right;\n",
       "    }\n",
       "</style>\n",
       "<table border=\"1\" class=\"dataframe\">\n",
       "  <thead>\n",
       "    <tr style=\"text-align: right;\">\n",
       "      <th></th>\n",
       "      <th>SAMPLE_ID</th>\n",
       "      <th>SAMPLE_NAME</th>\n",
       "      <th>PUBCHEM_SID</th>\n",
       "      <th>PRIMARY_MOA</th>\n",
       "      <th>ASSAY_NAME</th>\n",
       "      <th>LIBRARY</th>\n",
       "      <th>CAS</th>\n",
       "      <th>ALIAS</th>\n",
       "      <th>AC50</th>\n",
       "      <th>LOG_AC50</th>\n",
       "      <th>...</th>\n",
       "      <th>CONC5</th>\n",
       "      <th>CONC6</th>\n",
       "      <th>CONC7</th>\n",
       "      <th>CONC8</th>\n",
       "      <th>CONC9</th>\n",
       "      <th>CONC10</th>\n",
       "      <th>CONC11</th>\n",
       "      <th>CONC12</th>\n",
       "      <th>CONC13</th>\n",
       "      <th>CONC14</th>\n",
       "    </tr>\n",
       "  </thead>\n",
       "  <tbody>\n",
       "    <tr>\n",
       "      <th>0</th>\n",
       "      <td>NCGC00181349-02</td>\n",
       "      <td>Ranelic acid distrontium salt</td>\n",
       "      <td>225144325.0</td>\n",
       "      <td>Calcium-Sensing Receptor (CaSR) Agonist</td>\n",
       "      <td>DPI_SARS-CoV-2_General</td>\n",
       "      <td>2019_NPC-4_CPE</td>\n",
       "      <td>135459-87-9</td>\n",
       "      <td>Strontium Ranelate;3-(3-cyano-4-carboxymethyl-...</td>\n",
       "      <td>NaN</td>\n",
       "      <td>NaN</td>\n",
       "      <td>...</td>\n",
       "      <td>NaN</td>\n",
       "      <td>NaN</td>\n",
       "      <td>NaN</td>\n",
       "      <td>NaN</td>\n",
       "      <td>NaN</td>\n",
       "      <td>NaN</td>\n",
       "      <td>NaN</td>\n",
       "      <td>NaN</td>\n",
       "      <td>NaN</td>\n",
       "      <td>NaN</td>\n",
       "    </tr>\n",
       "    <tr>\n",
       "      <th>1</th>\n",
       "      <td>NCGC00018193-11</td>\n",
       "      <td>Fluvoxamine</td>\n",
       "      <td>170464809.0</td>\n",
       "      <td>5-HT Reuptake Inhibitor</td>\n",
       "      <td>DPI_SARS-CoV-2_General</td>\n",
       "      <td>2019_NPC-4_CPE</td>\n",
       "      <td>54739-18-3</td>\n",
       "      <td>;FLUVOXAMINE MALEATE;Fluvoxamine; Fluvoxamina;...</td>\n",
       "      <td>12.589254</td>\n",
       "      <td>-4.9</td>\n",
       "      <td>...</td>\n",
       "      <td>NaN</td>\n",
       "      <td>NaN</td>\n",
       "      <td>NaN</td>\n",
       "      <td>NaN</td>\n",
       "      <td>NaN</td>\n",
       "      <td>NaN</td>\n",
       "      <td>NaN</td>\n",
       "      <td>NaN</td>\n",
       "      <td>NaN</td>\n",
       "      <td>NaN</td>\n",
       "    </tr>\n",
       "    <tr>\n",
       "      <th>2</th>\n",
       "      <td>NCGC00091070-02</td>\n",
       "      <td>Diisopropylamine</td>\n",
       "      <td>170466002.0</td>\n",
       "      <td>Pyruvate dehydrogenase kinase isoform 4 Inhibitor</td>\n",
       "      <td>DPI_SARS-CoV-2_General</td>\n",
       "      <td>2019_NPC-4_CPE</td>\n",
       "      <td>108-18-9</td>\n",
       "      <td>NaN</td>\n",
       "      <td>NaN</td>\n",
       "      <td>NaN</td>\n",
       "      <td>...</td>\n",
       "      <td>NaN</td>\n",
       "      <td>NaN</td>\n",
       "      <td>NaN</td>\n",
       "      <td>NaN</td>\n",
       "      <td>NaN</td>\n",
       "      <td>NaN</td>\n",
       "      <td>NaN</td>\n",
       "      <td>NaN</td>\n",
       "      <td>NaN</td>\n",
       "      <td>NaN</td>\n",
       "    </tr>\n",
       "    <tr>\n",
       "      <th>3</th>\n",
       "      <td>NCGC00263541-01</td>\n",
       "      <td>Reboxetine mesylate</td>\n",
       "      <td>170465620.0</td>\n",
       "      <td>NaN</td>\n",
       "      <td>SARS-CoV-2_CPE_SRI</td>\n",
       "      <td>2019_NPC-2.2</td>\n",
       "      <td>98769-84-7</td>\n",
       "      <td>NaN</td>\n",
       "      <td>NaN</td>\n",
       "      <td>NaN</td>\n",
       "      <td>...</td>\n",
       "      <td>NaN</td>\n",
       "      <td>NaN</td>\n",
       "      <td>NaN</td>\n",
       "      <td>NaN</td>\n",
       "      <td>NaN</td>\n",
       "      <td>NaN</td>\n",
       "      <td>NaN</td>\n",
       "      <td>NaN</td>\n",
       "      <td>NaN</td>\n",
       "      <td>NaN</td>\n",
       "    </tr>\n",
       "    <tr>\n",
       "      <th>4</th>\n",
       "      <td>NCGC00160421-03</td>\n",
       "      <td>Tetrabenazine</td>\n",
       "      <td>170464675.0</td>\n",
       "      <td>Vesicular Monoamine Transporter 2 (VMAT2) Inhi...</td>\n",
       "      <td>SARS-CoV-2_CPE_SRI</td>\n",
       "      <td>2019_NPC-3.2</td>\n",
       "      <td>58-46-8</td>\n",
       "      <td>; Nitoman;Tetrabenazine; Tetrabenazine; Tetra...</td>\n",
       "      <td>NaN</td>\n",
       "      <td>NaN</td>\n",
       "      <td>...</td>\n",
       "      <td>NaN</td>\n",
       "      <td>NaN</td>\n",
       "      <td>NaN</td>\n",
       "      <td>NaN</td>\n",
       "      <td>NaN</td>\n",
       "      <td>NaN</td>\n",
       "      <td>NaN</td>\n",
       "      <td>NaN</td>\n",
       "      <td>NaN</td>\n",
       "      <td>NaN</td>\n",
       "    </tr>\n",
       "  </tbody>\n",
       "</table>\n",
       "<p>5 rows × 53 columns</p>\n",
       "</div>"
      ],
      "text/plain": [
       "         SAMPLE_ID                    SAMPLE_NAME  PUBCHEM_SID  \\\n",
       "0  NCGC00181349-02  Ranelic acid distrontium salt  225144325.0   \n",
       "1  NCGC00018193-11                    Fluvoxamine  170464809.0   \n",
       "2  NCGC00091070-02               Diisopropylamine  170466002.0   \n",
       "3  NCGC00263541-01            Reboxetine mesylate  170465620.0   \n",
       "4  NCGC00160421-03                  Tetrabenazine  170464675.0   \n",
       "\n",
       "                                         PRIMARY_MOA              ASSAY_NAME  \\\n",
       "0            Calcium-Sensing Receptor (CaSR) Agonist  DPI_SARS-CoV-2_General   \n",
       "1                            5-HT Reuptake Inhibitor  DPI_SARS-CoV-2_General   \n",
       "2  Pyruvate dehydrogenase kinase isoform 4 Inhibitor  DPI_SARS-CoV-2_General   \n",
       "3                                                NaN      SARS-CoV-2_CPE_SRI   \n",
       "4  Vesicular Monoamine Transporter 2 (VMAT2) Inhi...      SARS-CoV-2_CPE_SRI   \n",
       "\n",
       "          LIBRARY          CAS  \\\n",
       "0  2019_NPC-4_CPE  135459-87-9   \n",
       "1  2019_NPC-4_CPE   54739-18-3   \n",
       "2  2019_NPC-4_CPE     108-18-9   \n",
       "3    2019_NPC-2.2   98769-84-7   \n",
       "4    2019_NPC-3.2      58-46-8   \n",
       "\n",
       "                                               ALIAS       AC50  LOG_AC50  \\\n",
       "0  Strontium Ranelate;3-(3-cyano-4-carboxymethyl-...        NaN       NaN   \n",
       "1  ;FLUVOXAMINE MALEATE;Fluvoxamine; Fluvoxamina;...  12.589254      -4.9   \n",
       "2                                                NaN        NaN       NaN   \n",
       "3                                                NaN        NaN       NaN   \n",
       "4   ; Nitoman;Tetrabenazine; Tetrabenazine; Tetra...        NaN       NaN   \n",
       "\n",
       "   ...  CONC5  CONC6  CONC7 CONC8  CONC9  CONC10  CONC11  CONC12  CONC13  \\\n",
       "0  ...    NaN    NaN    NaN   NaN    NaN     NaN     NaN     NaN     NaN   \n",
       "1  ...    NaN    NaN    NaN   NaN    NaN     NaN     NaN     NaN     NaN   \n",
       "2  ...    NaN    NaN    NaN   NaN    NaN     NaN     NaN     NaN     NaN   \n",
       "3  ...    NaN    NaN    NaN   NaN    NaN     NaN     NaN     NaN     NaN   \n",
       "4  ...    NaN    NaN    NaN   NaN    NaN     NaN     NaN     NaN     NaN   \n",
       "\n",
       "  CONC14  \n",
       "0    NaN  \n",
       "1    NaN  \n",
       "2    NaN  \n",
       "3    NaN  \n",
       "4    NaN  \n",
       "\n",
       "[5 rows x 53 columns]"
      ]
     },
     "execution_count": 4,
     "metadata": {},
     "output_type": "execute_result"
    }
   ],
   "source": [
    "print('Uncurated primary qHTS data: ', primary.shape)\n",
    "primary.head()"
   ]
  },
  {
   "cell_type": "markdown",
   "metadata": {},
   "source": [
    "#### Clean up the dataframe"
   ]
  },
  {
   "cell_type": "code",
   "execution_count": 5,
   "metadata": {},
   "outputs": [
    {
     "data": {
      "text/plain": [
       "Index(['SAMPLE_ID', 'SAMPLE_NAME', 'PUBCHEM_SID', 'PRIMARY_MOA', 'ASSAY_NAME',\n",
       "       'LIBRARY', 'CAS', 'ALIAS', 'AC50', 'LOG_AC50', 'AUC', 'CURVE_CLASS2',\n",
       "       'DATA_POINTS', 'DRUG_NAME', 'EFFICACY', 'MAX_RESPONSE', 'P_HILL', 'R2',\n",
       "       'GENE_ID', 'GENE_SYMBOL', 'SMILES', 'SUPPLIER', 'SUPPLIER_ID', 'DATA0',\n",
       "       'DATA1', 'DATA2', 'DATA3', 'DATA4', 'DATA5', 'DATA6', 'DATA7', 'DATA8',\n",
       "       'DATA9', 'DATA10', 'DATA11', 'DATA12', 'DATA13', 'DATA14', 'CONC0',\n",
       "       'CONC1', 'CONC2', 'CONC3', 'CONC4', 'CONC5', 'CONC6', 'CONC7', 'CONC8',\n",
       "       'CONC9', 'CONC10', 'CONC11', 'CONC12', 'CONC13', 'CONC14'],\n",
       "      dtype='object')"
      ]
     },
     "execution_count": 5,
     "metadata": {},
     "output_type": "execute_result"
    }
   ],
   "source": [
    "#Inspect the columns and decide which we need which we can drop\n",
    "primary.columns"
   ]
  },
  {
   "cell_type": "markdown",
   "metadata": {},
   "source": [
    "#### we will want to keep compound identifiers, smiles, curve classes, and log_AC50 \n",
    "note: most of our activity curation will come from curve class curation and not any activity endpoints directly."
   ]
  },
  {
   "cell_type": "code",
   "execution_count": 6,
   "metadata": {},
   "outputs": [
    {
     "name": "stdout",
     "output_type": "stream",
     "text": [
      "Cleaned Up Dataset:\n"
     ]
    },
    {
     "data": {
      "text/html": [
       "<div>\n",
       "<style scoped>\n",
       "    .dataframe tbody tr th:only-of-type {\n",
       "        vertical-align: middle;\n",
       "    }\n",
       "\n",
       "    .dataframe tbody tr th {\n",
       "        vertical-align: top;\n",
       "    }\n",
       "\n",
       "    .dataframe thead th {\n",
       "        text-align: right;\n",
       "    }\n",
       "</style>\n",
       "<table border=\"1\" class=\"dataframe\">\n",
       "  <thead>\n",
       "    <tr style=\"text-align: right;\">\n",
       "      <th></th>\n",
       "      <th>SAMPLE_ID</th>\n",
       "      <th>SAMPLE_NAME</th>\n",
       "      <th>LOG_AC50</th>\n",
       "      <th>CURVE_CLASS2</th>\n",
       "      <th>SMILES</th>\n",
       "    </tr>\n",
       "  </thead>\n",
       "  <tbody>\n",
       "    <tr>\n",
       "      <th>0</th>\n",
       "      <td>NCGC00181349-02</td>\n",
       "      <td>Ranelic acid distrontium salt</td>\n",
       "      <td>NaN</td>\n",
       "      <td>4.0</td>\n",
       "      <td>O.O.O.O.O.O.O.[Sr++].[Sr++].[O-]C(=O)CN(CC([O-...</td>\n",
       "    </tr>\n",
       "  </tbody>\n",
       "</table>\n",
       "</div>"
      ],
      "text/plain": [
       "         SAMPLE_ID                    SAMPLE_NAME  LOG_AC50  CURVE_CLASS2  \\\n",
       "0  NCGC00181349-02  Ranelic acid distrontium salt       NaN           4.0   \n",
       "\n",
       "                                              SMILES  \n",
       "0  O.O.O.O.O.O.O.[Sr++].[Sr++].[O-]C(=O)CN(CC([O-...  "
      ]
     },
     "execution_count": 6,
     "metadata": {},
     "output_type": "execute_result"
    }
   ],
   "source": [
    "#make a list of columns to drop and then drop. \n",
    "\n",
    "drop_columns = ['PUBCHEM_SID', 'PRIMARY_MOA', 'ASSAY_NAME','LIBRARY', 'CAS', 'ALIAS', 'AC50','AUC','DATA_POINTS', 'DRUG_NAME', 'EFFICACY', 'MAX_RESPONSE', 'P_HILL', 'R2', 'GENE_ID', 'GENE_SYMBOL','SUPPLIER', 'SUPPLIER_ID', 'DATA0', 'DATA1', 'DATA2', 'DATA3', 'DATA4', 'DATA5', 'DATA6', 'DATA7', 'DATA8', 'DATA9', 'DATA10', 'DATA11', 'DATA12', 'DATA13', 'DATA14', 'CONC0','CONC1', 'CONC2', 'CONC3', 'CONC4', 'CONC5', 'CONC6', 'CONC7', 'CONC8','CONC9', 'CONC10', 'CONC11', 'CONC12', 'CONC13', 'CONC14']\n",
    "\n",
    "df = primary.drop(drop_columns, axis=1)\n",
    "\n",
    "print('Cleaned Up Dataset:')\n",
    "df.head(1)"
   ]
  },
  {
   "cell_type": "markdown",
   "metadata": {},
   "source": [
    "#### More clean up: add a pAC50 measure, visualize compounds, and reorder the columns"
   ]
  },
  {
   "cell_type": "code",
   "execution_count": 7,
   "metadata": {},
   "outputs": [
    {
     "data": {
      "text/html": [
       "<div>\n",
       "<style scoped>\n",
       "    .dataframe tbody tr th:only-of-type {\n",
       "        vertical-align: middle;\n",
       "    }\n",
       "\n",
       "    .dataframe tbody tr th {\n",
       "        vertical-align: top;\n",
       "    }\n",
       "\n",
       "    .dataframe thead th {\n",
       "        text-align: right;\n",
       "    }\n",
       "</style>\n",
       "<table border=\"1\" class=\"dataframe\">\n",
       "  <thead>\n",
       "    <tr style=\"text-align: right;\">\n",
       "      <th></th>\n",
       "      <th>Mol</th>\n",
       "      <th>SAMPLE_ID</th>\n",
       "      <th>SAMPLE_NAME</th>\n",
       "      <th>pAC50</th>\n",
       "      <th>CURVE_CLASS2</th>\n",
       "      <th>SMILES</th>\n",
       "    </tr>\n",
       "  </thead>\n",
       "  <tbody>\n",
       "    <tr>\n",
       "      <th>0</th>\n",
       "      <td><img data-content=\"rdkit/molecule\" src=\"data:image/png;base64,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\" alt=\"Mol\"/></td>\n",
       "      <td>NCGC00181349-02</td>\n",
       "      <td>Ranelic acid distrontium salt</td>\n",
       "      <td>NaN</td>\n",
       "      <td>4.0</td>\n",
       "      <td>O.O.O.O.O.O.O.[Sr++].[Sr++].[O-]C(=O)CN(CC([O-...</td>\n",
       "    </tr>\n",
       "    <tr>\n",
       "      <th>1</th>\n",
       "      <td><img data-content=\"rdkit/molecule\" src=\"data:image/png;base64,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\" alt=\"Mol\"/></td>\n",
       "      <td>NCGC00018193-11</td>\n",
       "      <td>Fluvoxamine</td>\n",
       "      <td>4.9</td>\n",
       "      <td>4.0</td>\n",
       "      <td>FC(F)(F)c1ccc(cc1)C(\\CCCCOC)=N\\OCCN</td>\n",
       "    </tr>\n",
       "    <tr>\n",
       "      <th>2</th>\n",
       "      <td><img data-content=\"rdkit/molecule\" src=\"data:image/png;base64,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\" alt=\"Mol\"/></td>\n",
       "      <td>NCGC00091070-02</td>\n",
       "      <td>Diisopropylamine</td>\n",
       "      <td>NaN</td>\n",
       "      <td>4.0</td>\n",
       "      <td>CC(C)NC(C)C</td>\n",
       "    </tr>\n",
       "    <tr>\n",
       "      <th>3</th>\n",
       "      <td><img data-content=\"rdkit/molecule\" src=\"data:image/png;base64,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\" alt=\"Mol\"/></td>\n",
       "      <td>NCGC00263541-01</td>\n",
       "      <td>Reboxetine mesylate</td>\n",
       "      <td>NaN</td>\n",
       "      <td>4.0</td>\n",
       "      <td>CS(=O)(=O)O.CCOc3ccccc3O[C@H](c1ccccc1)[C@H]2C...</td>\n",
       "    </tr>\n",
       "    <tr>\n",
       "      <th>4</th>\n",
       "      <td><img data-content=\"rdkit/molecule\" src=\"data:image/png;base64,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\" alt=\"Mol\"/></td>\n",
       "      <td>NCGC00160421-03</td>\n",
       "      <td>Tetrabenazine</td>\n",
       "      <td>NaN</td>\n",
       "      <td>4.0</td>\n",
       "      <td>CC(C)CC2CN3CCc1cc(OC)c(OC)cc1C3CC2=O</td>\n",
       "    </tr>\n",
       "  </tbody>\n",
       "</table>\n",
       "</div>"
      ],
      "text/plain": [
       "                                                 Mol        SAMPLE_ID  \\\n",
       "0  <img data-content=\"rdkit/molecule\" src=\"data:i...  NCGC00181349-02   \n",
       "1  <img data-content=\"rdkit/molecule\" src=\"data:i...  NCGC00018193-11   \n",
       "2  <img data-content=\"rdkit/molecule\" src=\"data:i...  NCGC00091070-02   \n",
       "3  <img data-content=\"rdkit/molecule\" src=\"data:i...  NCGC00263541-01   \n",
       "4  <img data-content=\"rdkit/molecule\" src=\"data:i...  NCGC00160421-03   \n",
       "\n",
       "                     SAMPLE_NAME  pAC50  CURVE_CLASS2  \\\n",
       "0  Ranelic acid distrontium salt    NaN           4.0   \n",
       "1                    Fluvoxamine    4.9           4.0   \n",
       "2               Diisopropylamine    NaN           4.0   \n",
       "3            Reboxetine mesylate    NaN           4.0   \n",
       "4                  Tetrabenazine    NaN           4.0   \n",
       "\n",
       "                                              SMILES  \n",
       "0  O.O.O.O.O.O.O.[Sr++].[Sr++].[O-]C(=O)CN(CC([O-...  \n",
       "1                FC(F)(F)c1ccc(cc1)C(\\CCCCOC)=N\\OCCN  \n",
       "2                                        CC(C)NC(C)C  \n",
       "3  CS(=O)(=O)O.CCOc3ccccc3O[C@H](c1ccccc1)[C@H]2C...  \n",
       "4               CC(C)CC2CN3CCc1cc(OC)c(OC)cc1C3CC2=O  "
      ]
     },
     "execution_count": 7,
     "metadata": {},
     "output_type": "execute_result"
    }
   ],
   "source": [
    "df['pAC50'] = df.LOG_AC50*-1\n",
    "df.drop('LOG_AC50', axis=1, inplace=True)\n",
    "\n",
    "PandasTools.AddMoleculeColumnToFrame(df,\"SMILES\",\"Mol\")\n",
    "\n",
    "cols = ['Mol','SAMPLE_ID','SAMPLE_NAME','pAC50','CURVE_CLASS2','SMILES']\n",
    "df = df[cols]\n",
    "\n",
    "df.head()"
   ]
  },
  {
   "cell_type": "markdown",
   "metadata": {},
   "source": [
    "#### Curve Classes give us a better sense of the quality of the activity than the pAC50 alone.\n",
    "#### We are interested in specific curve classes that are associated with \"good curves\", which will be a proxy for meaningful activity\n",
    "Reference: https://www.ncbi.nlm.nih.gov/pmc/articles/PMC1518803/"
   ]
  },
  {
   "cell_type": "code",
   "execution_count": 8,
   "metadata": {},
   "outputs": [
    {
     "data": {
      "text/plain": [
       "CURVE_CLASS2\n",
       "-1.2       1\n",
       " 1.1      21\n",
       " 1.2      18\n",
       " 1.3       8\n",
       " 1.4      28\n",
       " 2.1      14\n",
       " 2.2      27\n",
       " 2.3       8\n",
       " 2.4      66\n",
       " 3.0     481\n",
       " 4.0    6533\n",
       " 5.0      10\n",
       "dtype: int64"
      ]
     },
     "execution_count": 8,
     "metadata": {},
     "output_type": "execute_result"
    }
   ],
   "source": [
    "#Inspect the distrubution of curve classes\n",
    "df.groupby(['CURVE_CLASS2']).size()"
   ]
  },
  {
   "cell_type": "code",
   "execution_count": 9,
   "metadata": {},
   "outputs": [
    {
     "data": {
      "image/png": "[encoded data removed]",
      "text/plain": [
       "<Figure size 432x288 with 1 Axes>"
      ]
     },
     "metadata": {
      "needs_background": "light"
     },
     "output_type": "display_data"
    }
   ],
   "source": [
    "#Plot it out\n",
    "ax = plt.subplots()\n",
    "ax = sns.countplot(df['CURVE_CLASS2'], data=df)\n",
    "ax.set_title('Curve Class Histogram')\n",
    "plt.show()"
   ]
  },
  {
   "cell_type": "markdown",
   "metadata": {},
   "source": [
    "### antiviral compounds increase cell viability. So we want positive curves. 4.0 is inactive.\n",
    "We have mostly inactive compounds with just a smattering of active compounds with good dose-response curves.\n",
    "\n",
    "As always we need to ask, what is the reproducibility? and how many of these actives are *true* actives?"
   ]
  },
  {
   "cell_type": "markdown",
   "metadata": {},
   "source": [
    "#### We will categorize inactive curves as 0, acceptable curves as 1, and ambiguous curves as 999"
   ]
  },
  {
   "cell_type": "code",
   "execution_count": 10,
   "metadata": {},
   "outputs": [],
   "source": [
    "#inactive\n",
    "df.loc[(df['CURVE_CLASS2'] == 4.0), 'activity'] = 0\n",
    "\n",
    "#active\n",
    "df.loc[(df['CURVE_CLASS2'] == 1.1), 'activity'] = 1\n",
    "df.loc[(df['CURVE_CLASS2'] == 1.2), 'activity'] = 1\n",
    "df.loc[(df['CURVE_CLASS2'] == 2.1), 'activity'] = 1\n",
    "df.loc[(df['CURVE_CLASS2'] == 2.2), 'activity'] = 1\n",
    "\n",
    "#ambiguous\n",
    "df.loc[(df['CURVE_CLASS2'] != 4) & (df['CURVE_CLASS2'] != 1.1) & (df['CURVE_CLASS2'] != 1.2) & (df['CURVE_CLASS2'] != 2.1) & (df['CURVE_CLASS2'] != 2.2), 'activity'] = 999"
   ]
  },
  {
   "cell_type": "code",
   "execution_count": 11,
   "metadata": {},
   "outputs": [
    {
     "data": {
      "text/html": [
       "<div>\n",
       "<style scoped>\n",
       "    .dataframe tbody tr th:only-of-type {\n",
       "        vertical-align: middle;\n",
       "    }\n",
       "\n",
       "    .dataframe tbody tr th {\n",
       "        vertical-align: top;\n",
       "    }\n",
       "\n",
       "    .dataframe thead th {\n",
       "        text-align: right;\n",
       "    }\n",
       "</style>\n",
       "<table border=\"1\" class=\"dataframe\">\n",
       "  <thead>\n",
       "    <tr style=\"text-align: right;\">\n",
       "      <th></th>\n",
       "      <th>Mol</th>\n",
       "      <th>SAMPLE_ID</th>\n",
       "      <th>SAMPLE_NAME</th>\n",
       "      <th>pAC50</th>\n",
       "      <th>CURVE_CLASS2</th>\n",
       "      <th>SMILES</th>\n",
       "      <th>activity</th>\n",
       "    </tr>\n",
       "  </thead>\n",
       "  <tbody>\n",
       "    <tr>\n",
       "      <th>0</th>\n",
       "      <td><img data-content=\"rdkit/molecule\" src=\"data:image/png;base64,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\" alt=\"Mol\"/></td>\n",
       "      <td>NCGC00181349-02</td>\n",
       "      <td>Ranelic acid distrontium salt</td>\n",
       "      <td>NaN</td>\n",
       "      <td>4.0</td>\n",
       "      <td>O.O.O.O.O.O.O.[Sr++].[Sr++].[O-]C(=O)CN(CC([O-...</td>\n",
       "      <td>0</td>\n",
       "    </tr>\n",
       "  </tbody>\n",
       "</table>\n",
       "</div>"
      ],
      "text/plain": [
       "                                                 Mol        SAMPLE_ID  \\\n",
       "0  <img data-content=\"rdkit/molecule\" src=\"data:i...  NCGC00181349-02   \n",
       "\n",
       "                     SAMPLE_NAME  pAC50  CURVE_CLASS2  \\\n",
       "0  Ranelic acid distrontium salt    NaN           4.0   \n",
       "\n",
       "                                              SMILES  activity  \n",
       "0  O.O.O.O.O.O.O.[Sr++].[Sr++].[O-]C(=O)CN(CC([O-...         0  "
      ]
     },
     "execution_count": 11,
     "metadata": {},
     "output_type": "execute_result"
    }
   ],
   "source": [
    "#recast our new column as an int and inspect\n",
    "df['activity'] = df['activity'].astype('int') \n",
    "df.head(1)"
   ]
  },
  {
   "cell_type": "markdown",
   "metadata": {},
   "source": [
    "#### Curate replicates\n",
    "Replicates may come from the same SAMPLE_ID, SAMPLE_NAME, or have the same SMILES"
   ]
  },
  {
   "cell_type": "code",
   "execution_count": 12,
   "metadata": {},
   "outputs": [
    {
     "name": "stdout",
     "output_type": "stream",
     "text": [
      "Number of replicate compounds:\n",
      "(2533, 7)\n"
     ]
    }
   ],
   "source": [
    "#Inspect how many compounds have replicate SAMPLE_ID\n",
    "\n",
    "sample_id_dups = df.groupby('SAMPLE_ID').filter(lambda x: x['SAMPLE_ID'].count() > 1)\n",
    "print('Number of replicate compounds:')\n",
    "print(sample_id_dups.shape)"
   ]
  },
  {
   "cell_type": "code",
   "execution_count": 13,
   "metadata": {},
   "outputs": [
    {
     "name": "stdout",
     "output_type": "stream",
     "text": [
      "Number of replicate compounds with inconsistent activity:\n",
      "(179, 7)\n"
     ]
    }
   ],
   "source": [
    "#Inspect how of those replicate compounds have inconsistent activity readouts\n",
    "\n",
    "sample_id_dups_filtered = sample_id_dups.groupby('SAMPLE_ID').filter(lambda x: x['activity'].nunique() > 1)\n",
    "print('Number of replicate compounds with inconsistent activity:')\n",
    "print(sample_id_dups_filtered.shape)"
   ]
  },
  {
   "cell_type": "code",
   "execution_count": 14,
   "metadata": {},
   "outputs": [
    {
     "name": "stdout",
     "output_type": "stream",
     "text": [
      "Partially curated dataset:\n",
      "(5815, 7)\n"
     ]
    }
   ],
   "source": [
    "#ensures inconsistent replicates are not in df\n",
    "df = df[~df['SAMPLE_ID'].isin(sample_id_dups_filtered.SAMPLE_ID)]\n",
    "\n",
    "#keeps one unique compound if the replicate is reproducible\n",
    "df.drop_duplicates(\"SAMPLE_ID\",inplace=True)\n",
    "\n",
    "print('Partially curated dataset:')\n",
    "print(df.shape)"
   ]
  },
  {
   "cell_type": "code",
   "execution_count": 15,
   "metadata": {},
   "outputs": [],
   "source": [
    "#Repeat analysis for SAMPLE_NAME and SMILES"
   ]
  },
  {
   "cell_type": "code",
   "execution_count": 16,
   "metadata": {},
   "outputs": [
    {
     "name": "stdout",
     "output_type": "stream",
     "text": [
      "Number of replicate compounds:\n",
      "(272, 7)\n"
     ]
    }
   ],
   "source": [
    "sample_name_dups = df.groupby('SAMPLE_NAME').filter(lambda x: x['SAMPLE_NAME'].count() > 1)\n",
    "print('Number of replicate compounds:')\n",
    "print(sample_name_dups.shape)"
   ]
  },
  {
   "cell_type": "code",
   "execution_count": 17,
   "metadata": {},
   "outputs": [
    {
     "name": "stdout",
     "output_type": "stream",
     "text": [
      "Number of replicate compounds with inconsistent activity:\n",
      "(18, 7)\n"
     ]
    }
   ],
   "source": [
    "sample_names_dups_filtered = sample_name_dups.groupby('SAMPLE_NAME').filter(lambda x: x['activity'].nunique() > 1)\n",
    "print('Number of replicate compounds with inconsistent activity:')\n",
    "print(sample_names_dups_filtered.shape)"
   ]
  },
  {
   "cell_type": "code",
   "execution_count": 18,
   "metadata": {},
   "outputs": [
    {
     "name": "stdout",
     "output_type": "stream",
     "text": [
      "Partially curated dataset:\n",
      "(5670, 7)\n"
     ]
    }
   ],
   "source": [
    "#ensures keys from df_2.SAMPLE_ID are not in df\n",
    "df = df[~df['SAMPLE_NAME'].isin(sample_names_dups_filtered.SAMPLE_NAME)]\n",
    "df.drop_duplicates(\"SAMPLE_NAME\",inplace=True)\n",
    "print('Partially curated dataset:')\n",
    "print(df.shape)"
   ]
  },
  {
   "cell_type": "code",
   "execution_count": 19,
   "metadata": {},
   "outputs": [
    {
     "name": "stdout",
     "output_type": "stream",
     "text": [
      "Number of replicate compounds:\n",
      "(272, 7)\n"
     ]
    }
   ],
   "source": [
    "smiles_dups = df.groupby('SMILES').filter(lambda x: x['SMILES'].count() > 1)\n",
    "print('Number of replicate compounds:')\n",
    "print(sample_name_dups.shape)"
   ]
  },
  {
   "cell_type": "code",
   "execution_count": 20,
   "metadata": {},
   "outputs": [
    {
     "name": "stdout",
     "output_type": "stream",
     "text": [
      "Number of replicate compounds with inconsistent activity:\n",
      "(18, 7)\n"
     ]
    }
   ],
   "source": [
    "smiles_dups_filtered = sample_name_dups.groupby('SMILES').filter(lambda x: x['activity'].nunique() > 1)\n",
    "print('Number of replicate compounds with inconsistent activity:')\n",
    "print(sample_names_dups_filtered.shape)"
   ]
  },
  {
   "cell_type": "code",
   "execution_count": 21,
   "metadata": {},
   "outputs": [
    {
     "name": "stdout",
     "output_type": "stream",
     "text": [
      "Partially curated dataset:\n",
      "(5363, 7)\n"
     ]
    }
   ],
   "source": [
    "#ensures keys from df_2.SAMPLE_ID are not in df\n",
    "df = df[~df['SMILES'].isin(smiles_dups_filtered.SMILES)]\n",
    "\n",
    "\n",
    "df.drop_duplicates(\"SMILES\",inplace=True)\n",
    "\n",
    "print('Partially curated dataset:')\n",
    "print(df.shape)"
   ]
  },
  {
   "cell_type": "code",
   "execution_count": 22,
   "metadata": {},
   "outputs": [
    {
     "name": "stdout",
     "output_type": "stream",
     "text": [
      "Partially curated dataset:\n",
      "(4937, 7)\n"
     ]
    }
   ],
   "source": [
    "#Remove any remaining inconclusive classes and the positive control Biotin\n",
    "\n",
    "df = df[df.activity != 999]\n",
    "df = df[df.SAMPLE_NAME != \"Biotin\"]\n",
    "\n",
    "print('Partially curated dataset:')\n",
    "print(df.shape)"
   ]
  },
  {
   "cell_type": "markdown",
   "metadata": {},
   "source": [
    "#### Inspect the curated dataset for the primary HTS"
   ]
  },
  {
   "cell_type": "code",
   "execution_count": 23,
   "metadata": {},
   "outputs": [
    {
     "name": "stdout",
     "output_type": "stream",
     "text": [
      "Actives in the primary screen:\n",
      "(31, 7)\n"
     ]
    }
   ],
   "source": [
    "df_actives = df[df.activity == 1]\n",
    "print('Actives in the primary screen:')\n",
    "print(df_actives.shape)\n",
    "\n",
    "#write out if needed\n",
    "#df_actives.to_csv('actives.csv')"
   ]
  },
  {
   "cell_type": "code",
   "execution_count": 24,
   "metadata": {},
   "outputs": [
    {
     "name": "stdout",
     "output_type": "stream",
     "text": [
      "Inactives in the primary screen:\n",
      "(4906, 7)\n"
     ]
    }
   ],
   "source": [
    "df_inactive = df[~df['SAMPLE_ID'].isin(df_actives.SAMPLE_ID)]\n",
    "print('Inactives in the primary screen:')\n",
    "print(df_inactive.shape)\n",
    "\n",
    "#write out if needed\n",
    "#df_inactives.to_csv('inactives.csv')"
   ]
  },
  {
   "cell_type": "markdown",
   "metadata": {},
   "source": [
    "### In the second section of the notebook we will further curate the primary HTS data based on the counterscreen"
   ]
  },
  {
   "cell_type": "markdown",
   "metadata": {},
   "source": [
    "#### read the file"
   ]
  },
  {
   "cell_type": "code",
   "execution_count": 25,
   "metadata": {},
   "outputs": [],
   "source": [
    "file2 = 'SARS-CoV-2_cytopathic_effect_(host_tox_counterscreen).tsv'"
   ]
  },
  {
   "cell_type": "code",
   "execution_count": 26,
   "metadata": {},
   "outputs": [
    {
     "name": "stdout",
     "output_type": "stream",
     "text": [
      "Uncurated dataset:\n",
      "(6160, 53)\n"
     ]
    }
   ],
   "source": [
    "counter = pd.read_csv(file2, sep='\\t')  \n",
    "print('Uncurated dataset:')\n",
    "print(counter.shape)"
   ]
  },
  {
   "cell_type": "code",
   "execution_count": 27,
   "metadata": {},
   "outputs": [
    {
     "data": {
      "text/plain": [
       "CURVE_CLASS2\n",
       "-3.0     498\n",
       "-2.4     141\n",
       "-2.3      82\n",
       "-2.2     103\n",
       "-2.1     163\n",
       "-1.4      52\n",
       "-1.3      63\n",
       "-1.2      47\n",
       "-1.1     111\n",
       " 4.0    4828\n",
       " 5.0      72\n",
       "dtype: int64"
      ]
     },
     "execution_count": 27,
     "metadata": {},
     "output_type": "execute_result"
    }
   ],
   "source": [
    "#Inspect the distrubution of curve classes\n",
    "counter.groupby(['CURVE_CLASS2']).size()"
   ]
  },
  {
   "cell_type": "markdown",
   "metadata": {},
   "source": [
    "As we can see, we have lots of negative curve classes. That means inhibition. Our host is being killed by our compounds!\n",
    "We want compounds that kill the virus (primary screen) but don't kill the host in the process!"
   ]
  },
  {
   "cell_type": "markdown",
   "metadata": {},
   "source": [
    "#### Define a function to categorize the counter screen outcome\n",
    "A true active will be active in the primary but inactive in the counterscreen. We want to ensure our compound is not killing the virus AND killing the host!"
   ]
  },
  {
   "cell_type": "code",
   "execution_count": 28,
   "metadata": {},
   "outputs": [],
   "source": [
    "def curate(df_in):\n",
    "    \n",
    "    df_in.loc[(df_in['CURVE_CLASS2'] == 4.0), 'activity'] = 0   \n",
    "    df_in.loc[(df_in['CURVE_CLASS2'] != 4.0), 'activity'] = 1   \n",
    "    df_in['activity'] = df_in['activity'].astype('int') \n",
    "    df_out = df_in[df_in.activity == 1]\n",
    "    return df_out"
   ]
  },
  {
   "cell_type": "code",
   "execution_count": 29,
   "metadata": {},
   "outputs": [
    {
     "name": "stdout",
     "output_type": "stream",
     "text": [
      "(1332, 54)\n"
     ]
    },
    {
     "data": {
      "text/html": [
       "<div>\n",
       "<style scoped>\n",
       "    .dataframe tbody tr th:only-of-type {\n",
       "        vertical-align: middle;\n",
       "    }\n",
       "\n",
       "    .dataframe tbody tr th {\n",
       "        vertical-align: top;\n",
       "    }\n",
       "\n",
       "    .dataframe thead th {\n",
       "        text-align: right;\n",
       "    }\n",
       "</style>\n",
       "<table border=\"1\" class=\"dataframe\">\n",
       "  <thead>\n",
       "    <tr style=\"text-align: right;\">\n",
       "      <th></th>\n",
       "      <th>SAMPLE_ID</th>\n",
       "      <th>SAMPLE_NAME</th>\n",
       "      <th>PUBCHEM_SID</th>\n",
       "      <th>PRIMARY_MOA</th>\n",
       "      <th>ASSAY_NAME</th>\n",
       "      <th>LIBRARY</th>\n",
       "      <th>CAS</th>\n",
       "      <th>ALIAS</th>\n",
       "      <th>AC50</th>\n",
       "      <th>LOG_AC50</th>\n",
       "      <th>...</th>\n",
       "      <th>CONC6</th>\n",
       "      <th>CONC7</th>\n",
       "      <th>CONC8</th>\n",
       "      <th>CONC9</th>\n",
       "      <th>CONC10</th>\n",
       "      <th>CONC11</th>\n",
       "      <th>CONC12</th>\n",
       "      <th>CONC13</th>\n",
       "      <th>CONC14</th>\n",
       "      <th>activity</th>\n",
       "    </tr>\n",
       "  </thead>\n",
       "  <tbody>\n",
       "    <tr>\n",
       "      <th>14</th>\n",
       "      <td>NCGC00023509-13</td>\n",
       "      <td>Lovastatin</td>\n",
       "      <td>170464913.0</td>\n",
       "      <td>HMG-CoA Reductase Inhibitor</td>\n",
       "      <td>DPI_SARS-CoV-2_General</td>\n",
       "      <td>2019_NPC-4_Tox</td>\n",
       "      <td>75330-75-5</td>\n",
       "      <td>; ; Lovastatin (Mevinolin); Monacolin K; Mevac...</td>\n",
       "      <td>7.943282</td>\n",
       "      <td>-5.10</td>\n",
       "      <td>...</td>\n",
       "      <td>NaN</td>\n",
       "      <td>NaN</td>\n",
       "      <td>NaN</td>\n",
       "      <td>NaN</td>\n",
       "      <td>NaN</td>\n",
       "      <td>NaN</td>\n",
       "      <td>NaN</td>\n",
       "      <td>NaN</td>\n",
       "      <td>NaN</td>\n",
       "      <td>1</td>\n",
       "    </tr>\n",
       "    <tr>\n",
       "      <th>26</th>\n",
       "      <td>NCGC00159476-09</td>\n",
       "      <td>Tribromsalan</td>\n",
       "      <td>170465542.0</td>\n",
       "      <td>NaN</td>\n",
       "      <td>DPI_SARS-CoV-2_General</td>\n",
       "      <td>2019_NPC-1_Tox</td>\n",
       "      <td>87-10-5</td>\n",
       "      <td>NaN</td>\n",
       "      <td>4.466836</td>\n",
       "      <td>-5.35</td>\n",
       "      <td>...</td>\n",
       "      <td>NaN</td>\n",
       "      <td>NaN</td>\n",
       "      <td>NaN</td>\n",
       "      <td>NaN</td>\n",
       "      <td>NaN</td>\n",
       "      <td>NaN</td>\n",
       "      <td>NaN</td>\n",
       "      <td>NaN</td>\n",
       "      <td>NaN</td>\n",
       "      <td>1</td>\n",
       "    </tr>\n",
       "  </tbody>\n",
       "</table>\n",
       "<p>2 rows × 54 columns</p>\n",
       "</div>"
      ],
      "text/plain": [
       "          SAMPLE_ID   SAMPLE_NAME  PUBCHEM_SID                  PRIMARY_MOA  \\\n",
       "14  NCGC00023509-13    Lovastatin  170464913.0  HMG-CoA Reductase Inhibitor   \n",
       "26  NCGC00159476-09  Tribromsalan  170465542.0                          NaN   \n",
       "\n",
       "                ASSAY_NAME         LIBRARY         CAS  \\\n",
       "14  DPI_SARS-CoV-2_General  2019_NPC-4_Tox  75330-75-5   \n",
       "26  DPI_SARS-CoV-2_General  2019_NPC-1_Tox     87-10-5   \n",
       "\n",
       "                                                ALIAS      AC50  LOG_AC50  \\\n",
       "14  ; ; Lovastatin (Mevinolin); Monacolin K; Mevac...  7.943282     -5.10   \n",
       "26                                                NaN  4.466836     -5.35   \n",
       "\n",
       "    ...  CONC6  CONC7  CONC8 CONC9  CONC10  CONC11  CONC12  CONC13  CONC14  \\\n",
       "14  ...    NaN    NaN    NaN   NaN     NaN     NaN     NaN     NaN     NaN   \n",
       "26  ...    NaN    NaN    NaN   NaN     NaN     NaN     NaN     NaN     NaN   \n",
       "\n",
       "   activity  \n",
       "14        1  \n",
       "26        1  \n",
       "\n",
       "[2 rows x 54 columns]"
      ]
     },
     "execution_count": 29,
     "metadata": {},
     "output_type": "execute_result"
    }
   ],
   "source": [
    "df_counter = curate(counter)\n",
    "print(df_counter.shape)\n",
    "df_counter.head(2)"
   ]
  },
  {
   "cell_type": "markdown",
   "metadata": {},
   "source": [
    "remove any nonspecific actives from our primary active df"
   ]
  },
  {
   "cell_type": "code",
   "execution_count": 30,
   "metadata": {},
   "outputs": [
    {
     "name": "stdout",
     "output_type": "stream",
     "text": [
      "True actives in the primary screen:\n",
      "(16, 7)\n"
     ]
    }
   ],
   "source": [
    "true = df_actives[~df_actives['SAMPLE_ID'].isin(df_counter.SAMPLE_ID)]\n",
    "print('True actives in the primary screen:')\n",
    "print(true.shape)"
   ]
  },
  {
   "cell_type": "code",
   "execution_count": 31,
   "metadata": {},
   "outputs": [
    {
     "data": {
      "text/html": [
       "<div>\n",
       "<style scoped>\n",
       "    .dataframe tbody tr th:only-of-type {\n",
       "        vertical-align: middle;\n",
       "    }\n",
       "\n",
       "    .dataframe tbody tr th {\n",
       "        vertical-align: top;\n",
       "    }\n",
       "\n",
       "    .dataframe thead th {\n",
       "        text-align: right;\n",
       "    }\n",
       "</style>\n",
       "<table border=\"1\" class=\"dataframe\">\n",
       "  <thead>\n",
       "    <tr style=\"text-align: right;\">\n",
       "      <th></th>\n",
       "      <th>Mol</th>\n",
       "      <th>SAMPLE_ID</th>\n",
       "      <th>SAMPLE_NAME</th>\n",
       "      <th>pAC50</th>\n",
       "      <th>CURVE_CLASS2</th>\n",
       "      <th>SMILES</th>\n",
       "      <th>activity</th>\n",
       "    </tr>\n",
       "  </thead>\n",
       "  <tbody>\n",
       "    <tr>\n",
       "      <th>6136</th>\n",
       "      <td><img data-content=\"rdkit/molecule\" src=\"data:image/png;base64,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\" alt=\"Mol\"/></td>\n",
       "      <td>NCGC00509936-02</td>\n",
       "      <td>NCGC00509936-02</td>\n",
       "      <td>5.0</td>\n",
       "      <td>2.2</td>\n",
       "      <td>C[N]1C=C(C=N1)C2=CC=C(C=C2)C3=CN=CC(=C3N4CCC5(...</td>\n",
       "      <td>1</td>\n",
       "    </tr>\n",
       "    <tr>\n",
       "      <th>6669</th>\n",
       "      <td><img data-content=\"rdkit/molecule\" src=\"data:image/png;base64,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\" alt=\"Mol\"/></td>\n",
       "      <td>NCGC00242493-09</td>\n",
       "      <td>NCGC00242493-09</td>\n",
       "      <td>5.6</td>\n",
       "      <td>1.2</td>\n",
       "      <td>CC(C)(C)C1=CC(=NO1)NC(=O)NC2=CC=C(C=C2)C3=C[N]...</td>\n",
       "      <td>1</td>\n",
       "    </tr>\n",
       "    <tr>\n",
       "      <th>6760</th>\n",
       "      <td><img data-content=\"rdkit/molecule\" src=\"data:image/png;base64,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\" alt=\"Mol\"/></td>\n",
       "      <td>NCGC00346625-03</td>\n",
       "      <td>NCGC00346625-03</td>\n",
       "      <td>5.2</td>\n",
       "      <td>2.2</td>\n",
       "      <td>FC1=CC=C(C=C1)C2=CC=C(O2)\\C=C/3SC(=O)NC3=O</td>\n",
       "      <td>1</td>\n",
       "    </tr>\n",
       "    <tr>\n",
       "      <th>7049</th>\n",
       "      <td><img data-content=\"rdkit/molecule\" src=\"data:image/png;base64,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\" alt=\"Mol\"/></td>\n",
       "      <td>NCGC00345807-02</td>\n",
       "      <td>NCGC00345807-02</td>\n",
       "      <td>6.5</td>\n",
       "      <td>1.1</td>\n",
       "      <td>OC1=CC=C(CCNC(=O)[C@H]2O[C@@H]2C(=O)N[C@@H](CC...</td>\n",
       "      <td>1</td>\n",
       "    </tr>\n",
       "    <tr>\n",
       "      <th>7142</th>\n",
       "      <td><img data-content=\"rdkit/molecule\" src=\"data:image/png;base64,iVBORw0KGgoAAAANSUhEUgAAAMgAAADICAIAAAAiOjnJAAAABmJLR0QA/wD/AP+gvaeTAAAaVklEQVR4nO2de1CTV9rAnwAh4aKgYkRFUAQt9/WCiozFW/22FC/LGu1MR213dmNrC7W1mu20K24dt6HUNqyznYlj3aFOLxvsVFnquo1tVRBrq7J4qwiKikQEFZAEISF5vj8OpmkQCMl7kjfh/MY/YvLynpO8v5xz3pPzPEeAiMBgcI2PuyvA8E6YWAwqMLEYVGBiMajAxGJQgYnFoAITi0EFJhaDCkwsBhWYWAwqMLEYVGBiMajAxGJQgYnFoAITi0EFJhaDCkwsBhWYWAwqMLEYVGBiMQAAOjs7TSYThydkYg119Hp9fn5+RETEunXrli5d2tDQwM15kTFU0el0+fn5YWFhxASxWAwAI0aM+Oc//2k2m508ORNrKNLV1aVSqcaOHUuUmjt37pEjR7Ra7YoVK8gzGRkZV65ccaYIJtbQgig1fvx4ItCcOXNKSkqsD1Cr1aQNCwwMVCgU3d3djhXEa7GqqqoWL168detWd1fEGzAYDEVFRdHR0USp5ORktVpNurzm5maj0Wg58s6dO2vWrCGHpaWlXbp0yYHieC1WaWkpAGRmZrq7Ip4NUWry5MnElcTERItS9+7dy8vLCwkJ2bt3r81flZaWRkREAIBQKJTL5V1dXYMqlNdiffbZZwCwevVqd1fEUzGZTGq1OjY2ligVHx9fVFRkMpkQsaWlJS8vb/jw4eSlDRs29P7z1tZWmUwmEAhIC/fTTz/ZXzSvxVKpVADwpz/9yd0V8TyIUlOnTiXePPHEE0VFRWTA1N7erlAoRowYQV5avHjxqVOn+jnVsWPHpkyZAgB+fn65ubl6vd6eCvBarIKCAgDYtGmTuyviYRw8eDA+Pp54Exsbu2/fPqKUTqdTKpVjxowhL6Wnp3/33Xf2nLCjo0Mul/v6+gLA5MmT7fkrXou1detWANi2bZu7K+JJXLt2jQy9o6KiVCoVGZV3dnb2nl8Y7JkrKiqIrwKBQCaTPXjwoJ+DeS3Wxo0bAWDnzp3urognsWvXLgCYP3++wWDAR/ML48aN62t+YVB0dna+/fbbQqGQiHvu3Lm+juT1Tzrt7e0AYBlgMuyBfGhz5swhl//GjRsvv/yyVqsl8wsnT55cunSpwycXiUTbt28/c+bM9OnTW1tbjx071teRvBbrwYMHADBs2DB3V8STIGJZPrTY2Nht27aVlJRUVVVJpVJOikhKSvr000/b2toKCwv7OsaPk5IowVosB+j9bXzrrbc4L0Wv10O/33nWYnkb9L6NFy9eXLJkydtvv21PKazF8jbofRsbGho0Go2dpbAWy9ug9220vhwDlsJrsViL5QD0vo3Wl8OzWyybGxyGPbAWawAePnxoNBpFIpG/v7+76+JJuKbFGvA7z1+xyAfE+sHBQq/FspbJg7tCNsByALPZrNfrBQJBcHAw5yf3kq6Q3RI6gE6nM5vNwcHBPj7cX1lvGLwbDIZ9+/YBwL1791pbW91dHY+B6rfRs1sso9H4ySefxMfHK5XKwMDA+vr6hISEkpISd9fLM6A6fujdYnmGWGazubi4OD4+ft26dVevXk1ISFAoFPPnz9dqtcuXL1+6dKlWq3V3HfmOy1qsgQtyeGkOh5B1tGT9KwDExcVZ1tGazWaVSkXewIgRI1Qqlbsry2vITy6LFi2icXKydr66uhoRJ0yYAAA3btzo62A3i2U2m0tKSlJSUohSkyZNUqlUvWPZ6urqlixZQo55+umn+3k/Q5wvv/wSAFasWGF5ZuPGjTKZrL293fmTkzXNWq0WEUNCQgDg/v37fR3sNrGIUtOmTSO6WK+j7Qu1Wj1q1Ch4FEtJok0Y1pAFUitXriT/vXXrlkgkAoDo6GgH1iLbcP369fPnz3d3d5vNZrL+vZ/r5R6xNBrNjBkziFKRkZFKpbKzs9OeP2xsbLSsVktPT//5559pV9VTaG5ulsvlYrE4KipKJBJZgpirqqpmzpxJPjGpVHr37l3ny9LpdOTr3c8xrhZLo9GkpqaS9xkREaFUKh8+fDjYk5SUlJAgcbFYnJeXRxZ3D1nu3r375z//mcyICgSCmJgYmy+e0WhUKBQk50d4ePj+/fudLPHHH38EgDFjxvRzjOvEKisry8jIIO959OjRCoWio6PD4bO1tLRYYilTUlJOnz7NYVU9hQcPHigUitDQUPKpLl68mHwOpaWlZHBtHcRcU1Mzf/58cmRWVlZDQ4MDJdbX1+fm5orF4uHDh3/xxRf9HOkisSorK8lbkkgkH3zwgTNKWXP48OGoqCgA8PPzk8vldvanXkDvoNMff/zR+oDW1tbc3Fwy/56cnExedeYWW6vV5uTkkBGbr6/vmjVrmpqa+jnedS3Wc889l5+fr9PpuD2tXq+3xFLGxMQcPXqU2/PzDRJ0KpFILP1dP2/5+PHj1kHM5MMf7C02Gb0FBAQAgI+Pj1QqtWdoy4t5LOcpLy8nn3VcXNxrr71WVVXl7hpxj16vVyqV4eHhFqW+/fbbAf/qsUHMZrN57969pMEbPnx4X+GBd+/eteR3EAgEWVlZlZWVdtbWS8RCxFOnTj377LNKpXLnzp1kEs9rsMmTlpaWNtig07Nnz5KZHesg5sbGxpUrV86ePbv3xCEZvZHJKtLVnjlzZlAleo9Ye/bsWbly5fPPP5+Tk+M194k2edJmz57tcByzwWBQKBRkkDRu3LgDBw6Q520i5XvfENiM3uzEe8Sqrq5Wq9V79+4tLCx0PoUmHzh27Bi5uQOAGTNmlJaWOn/O8+fPz5o1yzKt1dzcbHnJ5oYgPT392LFjDhfkPWJ9+eWXy5cvf+655z788EN314UD2tracnJy/Pz8rPOkcYLJZFKpVEFBQWQuqqioyOEsNP3gPWLV1dUdOHBg3759//nPf9xdFw6oqakhc8iUWl/raS0iGQDMmzePq9tqHi2bcZLr16/v3r27tLTUO4IvyLqUsLAwMgnMOTExMd99911RUVFERERqairJQnP8+HHLJLaT8DoSelBMnTp1w4YNOp3Ocvfk0bhgyb9AIFi7du3q1asNBgPnS7i8R6ympqbCwsLQ0NAFCxa4uy4c4LIl/yKRiNwqcov3iBUREfHGG2+0tbV5R/yFpwcpec8Yq729vaCg4MSJE+THB0/H04OUvKfFkkgkcrncz89L3hFrsfhCd3f3jh076urq3F0RbhAajeESSdijGXCPw0u+3wAQEBCwdetWsorGC9jY1LSxqQkCA91dEQfxnhZLKBS+8847BoPB3RXhiPZ2AADWFfKB7du3W36v9XgePAAA8NjBO12xzpw5s3HjRkSkWoqFPXv2eO5tlC2sxXosFy5cWLVqVWpqamFh4YEDByiVYsOWLVtcU5ArYC2WDZcuXVq7dm1KSkpxcXFgYGBubm5aWtqqVat2797NeVk2VFdX0y7CdXh4i8Xl6oZr167JZDKyCtbf318mk5GoWUtKj8zMzJs3b3JYojVtbW0NDQ3esRILETEyEgHw+nV318NBOBKrpgbXrHln9mwAEIlEOTk5RClELCsrW7BgwdixY603hOU2iNmym2N2dva8efPorkuWyVCpRJkMDx2iWAoihoYiAN67R7cUajgtVl0d/uEP6OeHALrExBdffLG+vp68cvz4ccuKn9GjR5eVlVk2hOUqiLmlpeUvf/mLZbU/WVcUFBT04YcfOryZcX8olVhT0/NYJkNEvHoVBx9waxfffotqNdJ4Fy7BCbFu3sTcXBSJEACFQlyzBmtrySsnT57MysoiDo0cOTIvL6+1tZW8xFUQ82MD6+7fvy+Tycgzc+bMuXDhguPv7rEQmQhKJV68iPHxGBOD33/PfUGuaRep4ZBYWi2+8kqPUr6+uG6dRanu06ezMjPJpQ0NDf3rX//a1tZm89dOBjEPGFhncVckEikUH3EZV2HTYl27hvHxCIA+PpiTg1xkdHlMKZ6JQ2KdPo0CAfr4oFSKly/3PHn+PEqlKBB8mJYWHBwsl8v7yXGDiEePHiX5luwPYrY/sK6trY3EAc+dW5eYiP3uTDtILG3J118jIhoMqFCgvz8C4MSJePiws+e/ccO2XbRI5lE42hW+9x5evNjz+Nw5zM5GgQABMDi4Zft2O1Oa2B/EbLObo52BdceOVU2ejADo54dbtiBHYf2IiGg04rx5qFD0jIHOncNZsxAAAVAqRavQl0FgGVq88MLQa7Fs+v5Ll3DNGvT1RQAUiVAmw9u3B1uDioqKuLg4eBRLaZMizMnAuo4OlMt7KhgdjXZEDttHSUmPRrNnIxnJGY343nsYEIAA5555pri4eBBna2j41dBi27YhNsay6fsLC9HHBwFQLMZXX3VAKQsklpIEQUycOPGbb74hTxYVFUVHRxOlkpKSHI6COnUKExMRAAUCzMtzuJq/5tChnqkmoRDlciRd+ZUrHStWhAcFAUB2dvbtAT+TpiaUy4mOtkMLD2cwYtn0/V9/jWIxymR46xYnVamsrLSEgS9YsGDixIlEqeTk5K+++srJmU8yFhKJ8OBBTiqLiIhtbZib2/PtejSUIxldyAxIaGioSqV6bM2bmppu7tiBgYE9Sq1a9cvQwitwosVC5Hz6rqqqavny5SKRaPLkyaT12rlzJ4czUjdvolKJSiUiYk1Nz2Pynsh/HeHoUYyNJb1Yzd/+ptfrEVGr1a5YsYJ8MTIyMq5cuWI5/Jfp3NhY9PHBxYtxkGkRPALnxlhco1KpAIAkynn++ecB4OWXX+a2CFL9mhruxELEjg7My+seNy56xAjrbJ+ffPIJSZoaHBz88ccft7S0bN261bLaOCsrq+1//+PmXfEPfkVCv//++wDw+uuvI+KOHTsA4M033+S2CGIScYuIJZP1/HNcLEREvHzmTHJyMunK169fT+aE79y5Q35vWLVqlfV07ikup0D4CL8W+lnvL0V1s8LNm6Gg4JfHKhVs3uzsOadOn37mzBlyF6JSqeLi4r766iuSwTAkJEStVre0tCxatOjEiRMajcaSmcNb4dea994bl1EKU4mJgfh47k9LJnuzsrL++Mc//vDDD9nZ2VKpNCAgICAgIDY2Nj8/f+HChdyXykv41WJZy0QpsO7VV4GkFc7MhNu3ISys578xMfDqq9wUkZCQUF5e/sEHHwQGBhYXFx86dKixsfHzzz8fOlYB38Tq3RXSC6yrrob8fPjsMyon9/X1fe21186fP79p0ybyq6jnRgg6Br/EGtw2QM7hghWa0dHR77//vqfHNDsGv8QKNJmC/P1d02KRNeW02xGDwdDV1eXn5+cdgf/2w6/B+/7GRjAYyNUuF4tNTzzhQ1ks2u2Ip0fKOwy/xLLun0RXr8Lt2/SuPCnKNWINtX4Q+NYV/qoZodxXuSYKhuqkCZ/ha4tlMkFHB/j4wKP0mJzjmq6wo0OcliaNjAynWwz/4JNYnZ1gMIC/P4hE0NoKiDBsGNDJwAkAPj63x43rDg0NBxBSKgIAWlqmnDypfpSIfwjBp67QunOi31HV17+g1UYGBR2hVwR4fDyz4/BJrN4DLJoXxDX3a54ez+wwfBLL+iLQn2VyzbzlkG2x+DTGmjABvvgCSAZfiQRefx1o5iRiLRZV+CTWqFGwejWsXw83bsClS7BiBTz9NL3SXNNiuWa2jIfwSSwAKCyEzZt71husX09JLJPJdPnyZbJjNusKKcGnMRYAXLoEj/bKhvh4qK3l9vRms7m4uDghIeHJJ580Go1isZj2/iiu+UWSh/BMLGuZrCVzGqJUUlLSqlWrqquryX58/v7+XV1dXBXxWD7+GG7fhmXLqBbCS9y9NroXFOI1NBrN9OnTyfuNiopSqVR6vb6goEAgENDYRpr7QCAPhGdjLABQqTg8GZaW/t+772oqKgAgMjLyrbfeeuGFF4RCYWdnZ0NDg0Qiqa2tXbhwYU5Ozo4dO4K4+/no0iXOu3EPg2ddIYccOQKzZwuWLt0oFEokEoVCUV1dLZPJEPGjjz6KiYlRKpWdnZ1kM4vCwsLExESNRsNV4dbBGgBQUADr1//qGe/H3U0mBY4cwblze3IrhIc//Mc/Hj58iI9i9kkoLFjF7FdVVc2cOZM8KZVK7cxo0hd37vT0fSTIbMh2hd4lVnk5LlzYo1RYGCoUqNcjoslkUqvVMY9uBRISEmzSQBiNRoVCIRaLASA8PHz//v0OFH7tGspkGBCAW7f2mESsYmJ5OLt29Sg1ahS++25PGjSTCdXq7hkzokJCACAuLq6oqKivmP3a2lpLbsusrKyGhgY7S66txbVrf0m688UXXL0lD8aLxLp9G8eMQbkcSVpKkwk//xyfeILYdmLlyk8//XTApLokpQeZNSUpPfo/3ioDK/r744svIrWs0B6GV4hlmaH4978REc1mLCnBadN6GrCoKFSp0Gi0/3x1dXVLliwhTddvf/vbGzdu9D7m5s2bubm5GRm7e2VgZSB6g1g2OXAOHcLf/KZHqYkTcc8edDQJqVqtJik9bFKINzQ0vPLKK2S7W3//gFde0TGleuP5Ytlk7XrpJQTAiAhUKp1PlN3Y2Lhy5UrSdKWnp1dUVMjlchLI5ePjI5VKL3tLnjTO8XyxbFqse/dw1y60I1Wu/RQXF5OMusHBwRalLnpXnjTOEaCrtuaiyPr1EB9PdaXN/fv3586dW11dPXXqVLVaTdIVMfqBfz/pOACnvwI9lpEjR44fP766ujozM5NZZQ/e+5MO15CtxcgqLsaAMLHsQqfTabVaYGLZDRPLLsiOYsDEshsmll1YtthkYtkJE8sumFiDhYllF5cvXyYPmFh2wsSyC9ZiDRYm1sCYzeaamhrymIllJ0ysgamvr+/o6CCPSfw0Y0CYWANj6QcBoLu7m3bEmHfAxBoYy8idwHpDe2BiDYx1iwVMLPtgYg0ME8sBmFgDw8RyACbWAOj1+oaGButnmFj2wMQaAMvPzxaYWPbAxBoAm34QmFj2wcQagObmZptnmFj2wMQagPXr12dnZyclJQmFQgAQCoXkAQ0QUafTeckErHtjOTyIa9euLV68mHxozzzzzE2uQ541Gs3MmTOXLl0qkUgGjMDmP0ysQWA2m4uKikaOHAkAISEhKpXKOrOIwxw6dCg1NZUoa8ninJmZybm7roSJNWi0Wm12dja5/PPmzSO3jY5RVlZmSUMyevRohULR0dHRVwS2Z8HEchC1Wj169GgACAgIUCgUfWWw6Yvy8nLLFtFhYWEKhUKv11tebWxslEql5NX09PSff/6Z6+pTh4nlOPfv35fJZOTyz5kz58KFC/b8VUVFRVZWFvmrUaNG5eXltbW1WR/w4MED8qCkpGT8+PEAIBaL8/LyDI4moXALTCxn+frrrydMmAAAQqFQLpd3dXX1deQPP/xgUWrYsGFyubyVZFyyoqurKyEhQSqVNjc3I2JLS4tMJiPblaekpJw+fZrum+EOJhYHtLW15ebm+vj4AEBiYuKpU6dsDjh37pxUKiV+BAcHy+XylpaWx56qvLycJB0ZM2bMv/71L/Lk4cOHo6KiAMDPz08ul3dympmCEkwszigrK5s6dSq5/Lm5uTqdDhHPnz9vUSooKEgul9+7d6//81y9enXRokWWeY36+npE1Ov1crnc19cXAGikEOccJhaX6PX6TZs2kcs/adKkhQsXWpTasmUL6d3soa95jRMnTsTFxQGAQCCQyWTtJB0mL2FicU9lZeX06dN9fX3JlioymUyr1TpwHq1W+7vf/Y40XU8++eSVK1cQ0WAwKBQKslPLxIkTv/nmG66rzw1MLCp0dXX5+fkBwGPTTA6Kx85rnD17dtq0aaTp2rJlCxdV5hgmFhVIVI9IJOLkbNbzGmlpaSTnm9FoVCqV/v7+v//973k40cXEosKdO3fIZDoidnZ2XrhwwfnfZw4ePEimtYYPH265qSSzrP8mWX35hFckXuMf1rts1tTUJCUlxcfHX7x40ZlzLlu2LCMjY/PmzZGRkWT3MgAwGo1Af9dFB2BiUcF6X2AO9wgOCQnZvXt3XwXxCrYeiwrWLRbVPYJdswGxAzCxqECpxeq/IF7BxKICaUjI9WYtFoMzrK83vUbFYDB0dXUJhULy8yKvYGJRwVomeo0Kb5srYGJRgohl3WLRuPy8HWABE4sSrukKWYs15HBNV8harCEHa7GYWFRgLRYTiwqsxWK/FVLBWqZ58+aNHDlSIpFQLYVvMLGoYN2WKJVKF5TCN1hXSAXSlpAdWbnCbDar1WprTenNkDkPE4sKW7ZsCQoKWrZsmU3GZYc5cuRIamrq6tWr33zzTUuGQT53hUwsKmRkZAwbNuzkyZPTpk3Lz8/v7u52+FREqaeeeurs2bMTJkxQKBRhYWEA0NnZWVlZCXxtsdjSZFpYBzEnJyf/9NNPgz2DRqOZNWsWuUwSiUShUDx8+BARDQaDSqUiy5Q3bNhw69YtCtV3FiYWXY4ePRobGwuDDGJ+bBYaRDQYDLt3746MjCQvTZ8+XaPRUH4HDsLEoo5NEPP333/fz8F9ZaExmUxqtTomJoa8lJCQoFarOcnORQkmlouoqKiwDmK2pJSx5tlnnyXejBo1SqFQkCB9otSUKVPIS3FxcUVFRYPNmuR6mFiuwyaI+b///a/NAQUFBdZZaEwmU0lJSUpKClFq0qRJKpWK/0oRmFiupqqqaubMmcQVqVR69+5dy0sdHR0kYNBsNpeUlJBYZwCIiopSqVRGo9F9tR40TCw3QIKYAwMDAWDMmDHFxcXWr2o0mhkzZhClIiMjlUqlR+QtsoGJ5TZqa2sXLFhABMrKyrp165ZGo7FkuY2IiFAqlWR+wRNhYrkTk8m0a9cu8stPUFAQUWrs2LF///vfPbGVskaAv94ohuF6tFrtSy+9JJFIDhw48MYbb+Tm5vIw6mawMLH4gslkMhqNYrHY3RXhBiYWgwrsR2gGFZhYDCowsRhUYGIxqMDEYlCBicWgAhOLQQUmFoMKTCwGFZhYDCowsRhUYGIxqMDEYlCBicWgAhOLQQUmFoMKTCwGFZhYDCowsRhU+H9gdB9A5BCNMAAAAABJRU5ErkJggg==\" alt=\"Mol\"/></td>\n",
       "      <td>NCGC00345806-02</td>\n",
       "      <td>NCGC00345806-02</td>\n",
       "      <td>5.0</td>\n",
       "      <td>2.1</td>\n",
       "      <td>CC(C)C[C@H](NC(=O)[C@H](CC1=CC=CC=C1)NC(=O)OCC...</td>\n",
       "      <td>1</td>\n",
       "    </tr>\n",
       "  </tbody>\n",
       "</table>\n",
       "</div>"
      ],
      "text/plain": [
       "                                                    Mol        SAMPLE_ID  \\\n",
       "6136  <img data-content=\"rdkit/molecule\" src=\"data:i...  NCGC00509936-02   \n",
       "6669  <img data-content=\"rdkit/molecule\" src=\"data:i...  NCGC00242493-09   \n",
       "6760  <img data-content=\"rdkit/molecule\" src=\"data:i...  NCGC00346625-03   \n",
       "7049  <img data-content=\"rdkit/molecule\" src=\"data:i...  NCGC00345807-02   \n",
       "7142  <img data-content=\"rdkit/molecule\" src=\"data:i...  NCGC00345806-02   \n",
       "\n",
       "          SAMPLE_NAME  pAC50  CURVE_CLASS2  \\\n",
       "6136  NCGC00509936-02    5.0           2.2   \n",
       "6669  NCGC00242493-09    5.6           1.2   \n",
       "6760  NCGC00346625-03    5.2           2.2   \n",
       "7049  NCGC00345807-02    6.5           1.1   \n",
       "7142  NCGC00345806-02    5.0           2.1   \n",
       "\n",
       "                                                 SMILES  activity  \n",
       "6136  C[N]1C=C(C=N1)C2=CC=C(C=C2)C3=CN=CC(=C3N4CCC5(...         1  \n",
       "6669  CC(C)(C)C1=CC(=NO1)NC(=O)NC2=CC=C(C=C2)C3=C[N]...         1  \n",
       "6760         FC1=CC=C(C=C1)C2=CC=C(O2)\\C=C/3SC(=O)NC3=O         1  \n",
       "7049  OC1=CC=C(CCNC(=O)[C@H]2O[C@@H]2C(=O)N[C@@H](CC...         1  \n",
       "7142  CC(C)C[C@H](NC(=O)[C@H](CC1=CC=CC=C1)NC(=O)OCC...         1  "
      ]
     },
     "execution_count": 31,
     "metadata": {},
     "output_type": "execute_result"
    }
   ],
   "source": [
    "true.tail()"
   ]
  },
  {
   "cell_type": "markdown",
   "metadata": {},
   "source": [
    "### Write out the file"
   ]
  },
  {
   "cell_type": "code",
   "execution_count": 32,
   "metadata": {},
   "outputs": [],
   "source": [
    "#true.to_csv('true_positives_cpe.csv');"
   ]
  }
 ],
 "metadata": {
  "kernelspec": {
   "display_name": "Python 3",
   "language": "python",
   "name": "python3"
  },
  "language_info": {
   "codemirror_mode": {
    "name": "ipython",
    "version": 3
   },
   "file_extension": ".py",
   "mimetype": "text/x-python",
   "name": "python",
   "nbconvert_exporter": "python",
   "pygments_lexer": "ipython3",
   "version": "3.7.1"
  }
 },
 "nbformat": 4,
 "nbformat_minor": 2
}
